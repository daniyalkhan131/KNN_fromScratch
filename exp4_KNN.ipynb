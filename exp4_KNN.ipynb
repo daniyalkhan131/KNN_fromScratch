{
 "cells": [
  {
   "cell_type": "code",
   "execution_count": 1,
   "metadata": {},
   "outputs": [
    {
     "name": "stdout",
     "output_type": "stream",
     "text": [
      "[[1, 2, 0], [4, 5, 1], [2, 3, 0], [1, 8, 0], [6, 7, 1], [0, 1, 0], [1, 9, 1], [4, 5, 0], [2, 5, 1], [4, 3, 1], [5, 2, 1], [5, 4, 1], [1, 1, 1], [4, 9, 0], [22, 23, 1], [25, 26, 1], [25, 29, 1], [33, 32, 0], [39, 34, 0], [35, 38, 0]]\n"
     ]
    }
   ],
   "source": [
    "file=open(\"D:\\JMI\\Data Analytics\\Lab\\knndataset.txt\",'r')\n",
    "dataset1=file.read().split('\\n')\n",
    "dataset=list()\n",
    "for i in dataset1:\n",
    "    temp=i.split(',')\n",
    "    temp1=[eval(i) for i in temp]\n",
    "    dataset.append(temp1)\n",
    "print(dataset)"
   ]
  },
  {
   "cell_type": "code",
   "execution_count": 2,
   "metadata": {},
   "outputs": [],
   "source": [
    "import random as r\n",
    "dataset_list=list()\n",
    "\n",
    "for j in range(2):\n",
    "    for i in range(5):\n",
    "        temp = list()\n",
    "        temp.append(r.randrange(1, 50))\n",
    "        temp.append(r.randrange(1, 50))\n",
    "        temp.append(j)\n",
    "        dataset_list.append(temp)\n",
    "for j in range(2):\n",
    "    for i in range(5):\n",
    "        temp = list()\n",
    "        temp.append(r.randrange(40, 90))\n",
    "        temp.append(r.randrange(40, 90))\n",
    "        temp.append(j)\n",
    "        dataset_list.append(temp)\n",
    "    "
   ]
  },
  {
   "cell_type": "code",
   "execution_count": 3,
   "metadata": {},
   "outputs": [
    {
     "data": {
      "text/plain": [
       "[[46, 4, 0],\n",
       " [42, 24, 0],\n",
       " [27, 31, 0],\n",
       " [47, 17, 0],\n",
       " [42, 29, 0],\n",
       " [37, 6, 1],\n",
       " [5, 41, 1],\n",
       " [4, 15, 1],\n",
       " [7, 9, 1],\n",
       " [10, 5, 1],\n",
       " [43, 64, 0],\n",
       " [50, 77, 0],\n",
       " [59, 45, 0],\n",
       " [84, 89, 0],\n",
       " [81, 62, 0],\n",
       " [81, 71, 1],\n",
       " [85, 76, 1],\n",
       " [59, 80, 1],\n",
       " [66, 50, 1],\n",
       " [68, 68, 1]]"
      ]
     },
     "execution_count": 3,
     "metadata": {},
     "output_type": "execute_result"
    }
   ],
   "source": [
    "dataset_list"
   ]
  },
  {
   "cell_type": "code",
   "execution_count": 5,
   "metadata": {},
   "outputs": [
    {
     "data": {
      "text/plain": [
       "[<matplotlib.lines.Line2D at 0x202826ef880>]"
      ]
     },
     "execution_count": 5,
     "metadata": {},
     "output_type": "execute_result"
    },
    {
     "data": {
      "image/png": "[encoded data removed]",
      "text/plain": [
       "<Figure size 432x288 with 1 Axes>"
      ]
     },
     "metadata": {
      "needs_background": "light"
     },
     "output_type": "display_data"
    }
   ],
   "source": [
    "import matplotlib.pyplot as plt\n",
    "xxx=list()\n",
    "xxy=list()\n",
    "xyx=list()\n",
    "xyy=list()\n",
    "for i in dataset_list:\n",
    "    \n",
    "    if(i[2]==0):\n",
    "        xxx.append(i[0])\n",
    "        xxy.append(i[1])\n",
    "    if(i[2]==1):\n",
    "        xyx.append(i[0])\n",
    "        xyy.append(i[1])\n",
    "\n",
    "plt.plot(xxx,xxy,'ro')\n",
    "plt.plot(xyx,xyy,'go')\n",
    " "
   ]
  },
  {
   "cell_type": "code",
   "execution_count": 6,
   "metadata": {},
   "outputs": [
    {
     "name": "stdout",
     "output_type": "stream",
     "text": [
      "enter x134\n",
      "enter x265\n",
      "[34, 65]\n"
     ]
    }
   ],
   "source": [
    "x1,x2=int(input(\"enter x1\")), int(input(\"enter x2\"))\n",
    "x=list()\n",
    "x.append(x1)\n",
    "x.append(x2)\n",
    "print(x)"
   ]
  },
  {
   "cell_type": "code",
   "execution_count": 7,
   "metadata": {},
   "outputs": [],
   "source": [
    "def eucledian1(p1,p2):\n",
    "    sum=0\n",
    "    for i,j in zip(p1,p2):\n",
    "        sum=sum+(i-j)**2\n",
    "    dist=sum**0.5\n",
    "    return dist"
   ]
  },
  {
   "cell_type": "code",
   "execution_count": 8,
   "metadata": {},
   "outputs": [],
   "source": [
    "def Calc_distance(dataset,x):\n",
    "    distance=list()\n",
    "    for i in dataset:\n",
    "        distance.append(eucledian1(i[0:2],x))\n",
    "    return distance"
   ]
  },
  {
   "cell_type": "code",
   "execution_count": 9,
   "metadata": {},
   "outputs": [],
   "source": [
    "def Sorting(ds,dist):\n",
    "    for i in range(len(dist)-1):\n",
    "        for j in range(len(dist)-1-i):\n",
    "            if(dist[j]>dist[j+1]):\n",
    "                temp=dist[j]\n",
    "                dist[j]=dist[j+1]\n",
    "                dist[j+1]=temp\n",
    "                ds[j],ds[j+1]=ds[j+1],ds[j]\n"
   ]
  },
  {
   "cell_type": "code",
   "execution_count": 10,
   "metadata": {},
   "outputs": [
    {
     "name": "stdout",
     "output_type": "stream",
     "text": [
      "enter value of k5\n"
     ]
    }
   ],
   "source": [
    "k=int(input(\"enter value of k\"))"
   ]
  },
  {
   "cell_type": "code",
   "execution_count": 11,
   "metadata": {},
   "outputs": [],
   "source": [
    "distance=Calc_distance(dataset_list,x)            "
   ]
  },
  {
   "cell_type": "code",
   "execution_count": 12,
   "metadata": {},
   "outputs": [
    {
     "name": "stdout",
     "output_type": "stream",
     "text": [
      "[46, 4, 0] 62.16912416947821\n",
      "[42, 24, 0] 41.773197148410844\n",
      "[27, 31, 0] 34.713109915419565\n",
      "[47, 17, 0] 49.72926703662542\n",
      "[42, 29, 0] 36.87817782917155\n",
      "[37, 6, 1] 59.07622195096772\n",
      "[5, 41, 1] 37.64306044943742\n",
      "[4, 15, 1] 58.309518948453004\n",
      "[7, 9, 1] 62.16912416947821\n",
      "[10, 5, 1] 64.62197768561404\n",
      "[43, 64, 0] 9.055385138137417\n",
      "[50, 77, 0] 20.0\n",
      "[59, 45, 0] 32.01562118716424\n",
      "[84, 89, 0] 55.46169849544819\n",
      "[81, 62, 0] 47.095647357266465\n",
      "[81, 71, 1] 47.38143096192854\n",
      "[85, 76, 1] 52.172789842982326\n",
      "[59, 80, 1] 29.154759474226502\n",
      "[66, 50, 1] 35.34119409414458\n",
      "[68, 68, 1] 34.132096331752024\n"
     ]
    }
   ],
   "source": [
    "for i,j in zip(dataset_list,distance):\n",
    "    print(i,j)"
   ]
  },
  {
   "cell_type": "code",
   "execution_count": 13,
   "metadata": {},
   "outputs": [],
   "source": [
    "Sorting(dataset_list,distance)"
   ]
  },
  {
   "cell_type": "code",
   "execution_count": 14,
   "metadata": {},
   "outputs": [
    {
     "name": "stdout",
     "output_type": "stream",
     "text": [
      "[43, 64, 0] 9.055385138137417\n",
      "[50, 77, 0] 20.0\n",
      "[59, 80, 1] 29.154759474226502\n",
      "[59, 45, 0] 32.01562118716424\n",
      "[68, 68, 1] 34.132096331752024\n",
      "[27, 31, 0] 34.713109915419565\n",
      "[66, 50, 1] 35.34119409414458\n",
      "[42, 29, 0] 36.87817782917155\n",
      "[5, 41, 1] 37.64306044943742\n",
      "[42, 24, 0] 41.773197148410844\n",
      "[81, 62, 0] 47.095647357266465\n",
      "[81, 71, 1] 47.38143096192854\n",
      "[47, 17, 0] 49.72926703662542\n",
      "[85, 76, 1] 52.172789842982326\n",
      "[84, 89, 0] 55.46169849544819\n",
      "[4, 15, 1] 58.309518948453004\n",
      "[37, 6, 1] 59.07622195096772\n",
      "[46, 4, 0] 62.16912416947821\n",
      "[7, 9, 1] 62.16912416947821\n",
      "[10, 5, 1] 64.62197768561404\n"
     ]
    }
   ],
   "source": [
    "for i,j in zip(dataset_list,distance):\n",
    "    print(i,j)"
   ]
  },
  {
   "cell_type": "code",
   "execution_count": 15,
   "metadata": {},
   "outputs": [],
   "source": [
    "selected=list()\n",
    "count=0\n",
    "for i in dataset_list:\n",
    "    selected.append(i)\n",
    "    count+=1\n",
    "    if(count==k):\n",
    "        break\n",
    "    "
   ]
  },
  {
   "cell_type": "code",
   "execution_count": 16,
   "metadata": {},
   "outputs": [
    {
     "data": {
      "text/plain": [
       "[[43, 64, 0], [50, 77, 0], [59, 80, 1], [59, 45, 0], [68, 68, 1]]"
      ]
     },
     "execution_count": 16,
     "metadata": {},
     "output_type": "execute_result"
    }
   ],
   "source": [
    "selected"
   ]
  },
  {
   "cell_type": "code",
   "execution_count": 17,
   "metadata": {},
   "outputs": [
    {
     "name": "stdout",
     "output_type": "stream",
     "text": [
      "it belongs to class 0\n"
     ]
    }
   ],
   "source": [
    "# c1 for class0 count and c2 for class1 count\n",
    "c1=0\n",
    "c2=0\n",
    "for i in selected:\n",
    "    if(i[2]==0):\n",
    "        c1+=1\n",
    "    else:\n",
    "        c2+=1\n",
    "if c1>c2:\n",
    "    print(\"it belongs to class 0\")\n",
    "else: print(\"it belongs to class 1\")"
   ]
  },
  {
   "cell_type": "code",
   "execution_count": null,
   "metadata": {},
   "outputs": [],
   "source": []
  }
 ],
 "metadata": {
  "kernelspec": {
   "display_name": "Python 3",
   "language": "python",
   "name": "python3"
  },
  "language_info": {
   "codemirror_mode": {
    "name": "ipython",
    "version": 3
   },
   "file_extension": ".py",
   "mimetype": "text/x-python",
   "name": "python",
   "nbconvert_exporter": "python",
   "pygments_lexer": "ipython3",
   "version": "3.8.3"
  }
 },
 "nbformat": 4,
 "nbformat_minor": 4
}
